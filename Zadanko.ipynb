{
 "cells": [
  {
   "cell_type": "code",
   "execution_count": 1,
   "metadata": {},
   "outputs": [],
   "source": [
    "import numpy as np\n",
    "import pandas as pd\n",
    "import sqlite3 as sql\n",
    "import os\n",
    "import h5py\n",
    "import matplotlib.pyplot as plt"
   ]
  },
  {
   "cell_type": "markdown",
   "metadata": {},
   "source": [
    "1. Load received SQLite file: database.db .\n",
    "\n",
    "Importing data"
   ]
  },
  {
   "cell_type": "code",
   "execution_count": 2,
   "metadata": {},
   "outputs": [
    {
     "data": {
      "text/plain": [
       "[('CREATE TABLE data (\\n    id INTEGER PRIMARY KEY,\\n    x REAL,\\n    y TEXT,\\n    z REAL,\\n    connection_id INTEGER,\\n    FOREIGN KEY(connection_id) REFERENCES connection(id)\\n)',\n",
       "  'data'),\n",
       " ('CREATE TABLE connection (\\n    id INTEGER PRIMARY KEY,\\n    name TEXT\\n)',\n",
       "  'connection'),\n",
       " ('CREATE TABLE additional_data (\\n    color_id INTEGER PRIMARY KEY,\\n    color_name TEXT\\n)',\n",
       "  'additional_data')]"
      ]
     },
     "execution_count": 2,
     "metadata": {},
     "output_type": "execute_result"
    }
   ],
   "source": [
    "\n",
    "data_path = 'data/database.db'\n",
    "if not os.path.exists(data_path):\n",
    "    raise()\n",
    "\n",
    "conn = sql.connect(data_path)\n",
    "\n",
    "c = conn.cursor()\n",
    "\n",
    "tablenames = [t  for t in c.execute(\"SELECT sql,name FROM sqlite_master WHERE type='table';\")]\n",
    "tablenames"
   ]
  },
  {
   "cell_type": "code",
   "execution_count": 3,
   "metadata": {},
   "outputs": [],
   "source": [
    "data_d = [t  for t in c.execute(\"SELECT * from data\")]\n",
    "\n",
    "connection_d = [t  for t in c.execute(\"SELECT * from connection\")]\n",
    "\n",
    "additional_data_d = [t  for t in c.execute(\"SELECT * from additional_data\")]"
   ]
  },
  {
   "cell_type": "markdown",
   "metadata": {},
   "source": [
    "Little review"
   ]
  },
  {
   "cell_type": "code",
   "execution_count": 4,
   "metadata": {},
   "outputs": [
    {
     "name": "stdout",
     "output_type": "stream",
     "text": [
      "[(1, 44.62894693090455, '97.81099110033537', 569.7004532585571, 105), (2, 40.764309055564155, '82.0486367746882', 653.9040637023857, 76), (3, 25.849509311338426, '63.29510234435348', 374.1711758229815, 72), (4, 18.973395754992428, '50.59596955801666', 440.9766346304599, 239), (5, 44.7876215662726, '39.347747208411256', 219.38896277499066, 152)]\n",
      "----------------------------------------------------------------------------------------------------\n",
      "[(2, 'blue'), (4, 'blue'), (9, 'blue'), (10, 'blue'), (15, 'blue')]\n",
      "----------------------------------------------------------------------------------------------------\n",
      "[(0, 'red'), (2, 'blue'), (3, 'yellow'), (4, 'orange'), (5, 'black')]\n",
      "----------------------------------------------------------------------------------------------------\n",
      "101300\n",
      "36\n",
      "6\n",
      "101300\n",
      "36\n",
      "6\n"
     ]
    }
   ],
   "source": [
    "print(data_d[:5])\n",
    "print('-'*100)\n",
    "\n",
    "print(connection_d[:5])\n",
    "print('-'*100)\n",
    "\n",
    "print(additional_data_d[:5])\n",
    "print('-'*100)\n",
    "\n",
    "print(len(data_d))\n",
    "print(len(connection_d))\n",
    "print(len(additional_data_d))\n",
    "print(len(set(data_d)))\n",
    "print(len(set(connection_d)))\n",
    "print(len(set(additional_data_d)))\n",
    "# hmm"
   ]
  },
  {
   "cell_type": "markdown",
   "metadata": {},
   "source": [
    "2. The database.db file contains several tables. Use them to create Pandas DataFrame with x , y , z , color_id and color_name for every record.\n",
    "\n",
    "Ok, straight to dataframe."
   ]
  },
  {
   "cell_type": "code",
   "execution_count": 5,
   "metadata": {},
   "outputs": [],
   "source": [
    "sql_querry= '''\n",
    "SELECT d.x, d.y, d.z, ad.color_id, ad.color_name \n",
    "from data d \n",
    "left join connection c \n",
    "on d.connection_id =c.id \n",
    "left join additional_data ad\n",
    "on ad.color_name = c.name\n",
    "'''\n",
    "df_data = pd.read_sql_query(sql_querry, conn)\n",
    "conn.close()"
   ]
  },
  {
   "cell_type": "code",
   "execution_count": 6,
   "metadata": {},
   "outputs": [
    {
     "data": {
      "text/html": [
       "<div>\n",
       "<style scoped>\n",
       "    .dataframe tbody tr th:only-of-type {\n",
       "        vertical-align: middle;\n",
       "    }\n",
       "\n",
       "    .dataframe tbody tr th {\n",
       "        vertical-align: top;\n",
       "    }\n",
       "\n",
       "    .dataframe thead th {\n",
       "        text-align: right;\n",
       "    }\n",
       "</style>\n",
       "<table border=\"1\" class=\"dataframe\">\n",
       "  <thead>\n",
       "    <tr style=\"text-align: right;\">\n",
       "      <th></th>\n",
       "      <th>x</th>\n",
       "      <th>y</th>\n",
       "      <th>z</th>\n",
       "      <th>color_id</th>\n",
       "      <th>color_name</th>\n",
       "    </tr>\n",
       "  </thead>\n",
       "  <tbody>\n",
       "    <tr>\n",
       "      <th>0</th>\n",
       "      <td>44.628947</td>\n",
       "      <td>97.81099110033537</td>\n",
       "      <td>569.700453</td>\n",
       "      <td>11.0</td>\n",
       "      <td>green</td>\n",
       "    </tr>\n",
       "    <tr>\n",
       "      <th>1</th>\n",
       "      <td>40.764309</td>\n",
       "      <td>82.0486367746882</td>\n",
       "      <td>653.904064</td>\n",
       "      <td>4.0</td>\n",
       "      <td>orange</td>\n",
       "    </tr>\n",
       "    <tr>\n",
       "      <th>2</th>\n",
       "      <td>25.849509</td>\n",
       "      <td>63.29510234435348</td>\n",
       "      <td>374.171176</td>\n",
       "      <td>4.0</td>\n",
       "      <td>orange</td>\n",
       "    </tr>\n",
       "    <tr>\n",
       "      <th>3</th>\n",
       "      <td>18.973396</td>\n",
       "      <td>50.59596955801666</td>\n",
       "      <td>440.976635</td>\n",
       "      <td>3.0</td>\n",
       "      <td>yellow</td>\n",
       "    </tr>\n",
       "    <tr>\n",
       "      <th>4</th>\n",
       "      <td>44.787622</td>\n",
       "      <td>39.347747208411256</td>\n",
       "      <td>219.388963</td>\n",
       "      <td>0.0</td>\n",
       "      <td>red</td>\n",
       "    </tr>\n",
       "  </tbody>\n",
       "</table>\n",
       "</div>"
      ],
      "text/plain": [
       "           x                   y           z  color_id color_name\n",
       "0  44.628947   97.81099110033537  569.700453      11.0      green\n",
       "1  40.764309    82.0486367746882  653.904064       4.0     orange\n",
       "2  25.849509   63.29510234435348  374.171176       4.0     orange\n",
       "3  18.973396   50.59596955801666  440.976635       3.0     yellow\n",
       "4  44.787622  39.347747208411256  219.388963       0.0        red"
      ]
     },
     "execution_count": 6,
     "metadata": {},
     "output_type": "execute_result"
    }
   ],
   "source": [
    "df_data.head()"
   ]
  },
  {
   "cell_type": "code",
   "execution_count": 7,
   "metadata": {},
   "outputs": [
    {
     "name": "stdout",
     "output_type": "stream",
     "text": [
      "<class 'pandas.core.frame.DataFrame'>\n",
      "RangeIndex: 101300 entries, 0 to 101299\n",
      "Data columns (total 5 columns):\n",
      " #   Column      Non-Null Count   Dtype  \n",
      "---  ------      --------------   -----  \n",
      " 0   x           101300 non-null  float64\n",
      " 1   y           101300 non-null  object \n",
      " 2   z           101300 non-null  float64\n",
      " 3   color_id    101200 non-null  float64\n",
      " 4   color_name  101200 non-null  object \n",
      "dtypes: float64(3), object(2)\n",
      "memory usage: 3.9+ MB\n"
     ]
    }
   ],
   "source": [
    "df_data.info()"
   ]
  },
  {
   "cell_type": "markdown",
   "metadata": {},
   "source": [
    "Seems we have 100 NaNs inside, lack of connection inside database? Should use fulljoin \n",
    "\n",
    "\n",
    "3. Note, that x, y, z should be converted to floating-point format (if necessary), and color_id to integers.\n",
    "\n",
    "Noted.\n",
    "\n",
    "4. All invalid record should be removed."
   ]
  },
  {
   "cell_type": "code",
   "execution_count": 8,
   "metadata": {},
   "outputs": [
    {
     "name": "stdout",
     "output_type": "stream",
     "text": [
      "<class 'pandas.core.frame.DataFrame'>\n",
      "Int64Index: 101200 entries, 0 to 101299\n",
      "Data columns (total 5 columns):\n",
      " #   Column      Non-Null Count   Dtype  \n",
      "---  ------      --------------   -----  \n",
      " 0   x           101200 non-null  float64\n",
      " 1   y           101200 non-null  float64\n",
      " 2   z           101200 non-null  float64\n",
      " 3   color_id    101200 non-null  int32  \n",
      " 4   color_name  101200 non-null  object \n",
      "dtypes: float64(3), int32(1), object(1)\n",
      "memory usage: 4.2+ MB\n"
     ]
    }
   ],
   "source": [
    "df_data.dropna(inplace=True)\n",
    "df_data.color_id = pd.to_numeric(df_data.color_id).astype(int)\n",
    "df_data.y = df_data.y.astype('float64')\n",
    "df_data.dropna(inplace=True)\n",
    "df_data.info()\n",
    "\n",
    "# before dropna there was string like 'qqedsfgrtrtry' in Y column, its magic gone."
   ]
  },
  {
   "cell_type": "markdown",
   "metadata": {},
   "source": [
    "5. Change color_name column to color ."
   ]
  },
  {
   "cell_type": "code",
   "execution_count": 9,
   "metadata": {},
   "outputs": [
    {
     "name": "stdout",
     "output_type": "stream",
     "text": [
      "<class 'pandas.core.frame.DataFrame'>\n",
      "Int64Index: 101200 entries, 0 to 101299\n",
      "Data columns (total 5 columns):\n",
      " #   Column    Non-Null Count   Dtype  \n",
      "---  ------    --------------   -----  \n",
      " 0   x         101200 non-null  float64\n",
      " 1   y         101200 non-null  float64\n",
      " 2   z         101200 non-null  float64\n",
      " 3   color_id  101200 non-null  int32  \n",
      " 4   color     101200 non-null  object \n",
      "dtypes: float64(3), int32(1), object(1)\n",
      "memory usage: 4.2+ MB\n"
     ]
    }
   ],
   "source": [
    "df_data.rename(columns={'color_name':'color'}, errors='raise',inplace=True)\n",
    "\n",
    "df_data.info()"
   ]
  },
  {
   "cell_type": "markdown",
   "metadata": {},
   "source": [
    "6. List unique color values."
   ]
  },
  {
   "cell_type": "code",
   "execution_count": 10,
   "metadata": {},
   "outputs": [
    {
     "name": "stdout",
     "output_type": "stream",
     "text": [
      "[(0, 'red'), (2, 'blue'), (3, 'yellow'), (4, 'orange'), (5, 'black'), (11, 'green')]\n"
     ]
    },
    {
     "data": {
      "text/plain": [
       "['green', 'orange', 'yellow', 'red', 'black', 'blue']"
      ]
     },
     "execution_count": 10,
     "metadata": {},
     "output_type": "execute_result"
    }
   ],
   "source": [
    "# its in here:\n",
    "print(additional_data_d)\n",
    "# but i guess you want me to print it from df\n",
    "\n",
    "list(df_data.color.unique())"
   ]
  },
  {
   "cell_type": "markdown",
   "metadata": {},
   "source": [
    "7. Leave only data with z = 100 ."
   ]
  },
  {
   "cell_type": "code",
   "execution_count": 11,
   "metadata": {},
   "outputs": [],
   "source": [
    "df_data = df_data[df_data.z== 100.]\n",
    "\n",
    "df_data.z = pd.to_numeric(df_data.z).astype(int)"
   ]
  },
  {
   "cell_type": "code",
   "execution_count": 12,
   "metadata": {},
   "outputs": [
    {
     "name": "stdout",
     "output_type": "stream",
     "text": [
      "<class 'pandas.core.frame.DataFrame'>\n",
      "Int64Index: 1200 entries, 123 to 101223\n",
      "Data columns (total 5 columns):\n",
      " #   Column    Non-Null Count  Dtype  \n",
      "---  ------    --------------  -----  \n",
      " 0   x         1200 non-null   float64\n",
      " 1   y         1200 non-null   float64\n",
      " 2   z         1200 non-null   int32  \n",
      " 3   color_id  1200 non-null   int32  \n",
      " 4   color     1200 non-null   object \n",
      "dtypes: float64(2), int32(2), object(1)\n",
      "memory usage: 46.9+ KB\n"
     ]
    }
   ],
   "source": [
    "df_data.info()"
   ]
  },
  {
   "cell_type": "markdown",
   "metadata": {},
   "source": [
    "8. Remove red points with a distance from average red points’ position above 1 sigma."
   ]
  },
  {
   "cell_type": "code",
   "execution_count": 13,
   "metadata": {},
   "outputs": [
    {
     "name": "stdout",
     "output_type": "stream",
     "text": [
      "---------------------------------------------------------------------------------------------------- \n",
      "sd:\n",
      "x           1.132845\n",
      "y           0.170310\n",
      "z           0.000000\n",
      "color_id    2.597822\n",
      "dtype: float64\n",
      "---------------------------------------------------------------------------------------------------- \n",
      "mean:\n",
      "x          -4.181840e-17\n",
      "y          -3.011846e-01\n",
      "z           1.000000e+02\n",
      "color_id    2.583333e+00\n",
      "dtype: float64\n"
     ]
    },
    {
     "data": {
      "text/html": [
       "<div>\n",
       "<style scoped>\n",
       "    .dataframe tbody tr th:only-of-type {\n",
       "        vertical-align: middle;\n",
       "    }\n",
       "\n",
       "    .dataframe tbody tr th {\n",
       "        vertical-align: top;\n",
       "    }\n",
       "\n",
       "    .dataframe thead th {\n",
       "        text-align: right;\n",
       "    }\n",
       "</style>\n",
       "<table border=\"1\" class=\"dataframe\">\n",
       "  <thead>\n",
       "    <tr style=\"text-align: right;\">\n",
       "      <th></th>\n",
       "      <th>x</th>\n",
       "      <th>y</th>\n",
       "      <th>z</th>\n",
       "      <th>color_id</th>\n",
       "    </tr>\n",
       "  </thead>\n",
       "  <tbody>\n",
       "    <tr>\n",
       "      <th>count</th>\n",
       "      <td>1.200000e+03</td>\n",
       "      <td>1200.000000</td>\n",
       "      <td>1200.0</td>\n",
       "      <td>1200.000000</td>\n",
       "    </tr>\n",
       "    <tr>\n",
       "      <th>mean</th>\n",
       "      <td>-4.181840e-17</td>\n",
       "      <td>-0.301185</td>\n",
       "      <td>100.0</td>\n",
       "      <td>2.583333</td>\n",
       "    </tr>\n",
       "    <tr>\n",
       "      <th>std</th>\n",
       "      <td>1.132845e+00</td>\n",
       "      <td>0.170310</td>\n",
       "      <td>0.0</td>\n",
       "      <td>2.597822</td>\n",
       "    </tr>\n",
       "    <tr>\n",
       "      <th>min</th>\n",
       "      <td>-2.000000e+00</td>\n",
       "      <td>-0.499429</td>\n",
       "      <td>100.0</td>\n",
       "      <td>0.000000</td>\n",
       "    </tr>\n",
       "    <tr>\n",
       "      <th>25%</th>\n",
       "      <td>-9.997543e-01</td>\n",
       "      <td>-0.423163</td>\n",
       "      <td>100.0</td>\n",
       "      <td>2.000000</td>\n",
       "    </tr>\n",
       "    <tr>\n",
       "      <th>50%</th>\n",
       "      <td>1.110223e-16</td>\n",
       "      <td>-0.359612</td>\n",
       "      <td>100.0</td>\n",
       "      <td>2.000000</td>\n",
       "    </tr>\n",
       "    <tr>\n",
       "      <th>75%</th>\n",
       "      <td>9.997543e-01</td>\n",
       "      <td>-0.255293</td>\n",
       "      <td>100.0</td>\n",
       "      <td>2.000000</td>\n",
       "    </tr>\n",
       "    <tr>\n",
       "      <th>max</th>\n",
       "      <td>2.000000e+00</td>\n",
       "      <td>0.099224</td>\n",
       "      <td>100.0</td>\n",
       "      <td>11.000000</td>\n",
       "    </tr>\n",
       "  </tbody>\n",
       "</table>\n",
       "</div>"
      ],
      "text/plain": [
       "                  x            y       z     color_id\n",
       "count  1.200000e+03  1200.000000  1200.0  1200.000000\n",
       "mean  -4.181840e-17    -0.301185   100.0     2.583333\n",
       "std    1.132845e+00     0.170310     0.0     2.597822\n",
       "min   -2.000000e+00    -0.499429   100.0     0.000000\n",
       "25%   -9.997543e-01    -0.423163   100.0     2.000000\n",
       "50%    1.110223e-16    -0.359612   100.0     2.000000\n",
       "75%    9.997543e-01    -0.255293   100.0     2.000000\n",
       "max    2.000000e+00     0.099224   100.0    11.000000"
      ]
     },
     "execution_count": 13,
     "metadata": {},
     "output_type": "execute_result"
    }
   ],
   "source": [
    "sd = df_data.std(axis=0)\n",
    "mean = df_data.mean(axis=0)\n",
    "print('-'*100,'\\nsd:')\n",
    "print(sd)\n",
    "print('-'*100,'\\nmean:')\n",
    "print(mean)\n",
    "df_data.describe()"
   ]
  },
  {
   "cell_type": "code",
   "execution_count": 14,
   "metadata": {},
   "outputs": [
    {
     "name": "stdout",
     "output_type": "stream",
     "text": [
      "<class 'pandas.core.frame.DataFrame'>\n",
      "Int64Index: 100 entries, 995 to 100892\n",
      "Data columns (total 5 columns):\n",
      " #   Column    Non-Null Count  Dtype  \n",
      "---  ------    --------------  -----  \n",
      " 0   x         100 non-null    float64\n",
      " 1   y         100 non-null    float64\n",
      " 2   z         100 non-null    int32  \n",
      " 3   color_id  100 non-null    int32  \n",
      " 4   color     100 non-null    object \n",
      "dtypes: float64(2), int32(2), object(1)\n",
      "memory usage: 3.9+ KB\n",
      "<class 'pandas.core.frame.DataFrame'>\n",
      "Int64Index: 0 entries\n",
      "Data columns (total 5 columns):\n",
      " #   Column    Non-Null Count  Dtype  \n",
      "---  ------    --------------  -----  \n",
      " 0   x         0 non-null      float64\n",
      " 1   y         0 non-null      float64\n",
      " 2   z         0 non-null      int32  \n",
      " 3   color_id  0 non-null      int32  \n",
      " 4   color     0 non-null      object \n",
      "dtypes: float64(2), int32(2), object(1)\n",
      "memory usage: 0.0+ bytes\n",
      "100\n"
     ]
    }
   ],
   "source": [
    "sigma = 1\n",
    "\n",
    "\n",
    "reds_to_remove_1 = df_data[((df_data.x<(mean[0] + sigma*sd[0]))\n",
    "                            | (df_data.y<(mean[1] + sigma*sd[1]))) \n",
    "                         & (df_data.color_id ==0)]\n",
    "\n",
    "reds_to_remove_1.info()\n",
    "\n",
    "reds_to_remove_2 = df_data[(df_data.x<(mean[0] + sigma*sd[0])) \n",
    "                         & (df_data.y<(mean[1] + sigma*sd[1])) \n",
    "                         & (df_data.color_id ==0)]\n",
    "\n",
    "reds_to_remove_2.info()\n",
    "\n",
    "\n",
    "print(len(df_data[(df_data.color_id ==0)]))\n",
    "\n",
    "#weird, we dont want to delete all reds. So i will take second one, because smile at end will endup with one eye."
   ]
  },
  {
   "cell_type": "code",
   "execution_count": 16,
   "metadata": {},
   "outputs": [
    {
     "name": "stdout",
     "output_type": "stream",
     "text": [
      "<class 'pandas.core.frame.DataFrame'>\n",
      "Int64Index: 1200 entries, 123 to 101223\n",
      "Data columns (total 5 columns):\n",
      " #   Column    Non-Null Count  Dtype  \n",
      "---  ------    --------------  -----  \n",
      " 0   x         1200 non-null   float64\n",
      " 1   y         1200 non-null   float64\n",
      " 2   z         1200 non-null   int32  \n",
      " 3   color_id  1200 non-null   int32  \n",
      " 4   color     1200 non-null   object \n",
      "dtypes: float64(2), int32(2), object(1)\n",
      "memory usage: 46.9+ KB\n"
     ]
    }
   ],
   "source": [
    "df_final = df_data[~df_data.index.isin(reds_to_remove_2.index)]\n",
    "df_final.info()"
   ]
  },
  {
   "cell_type": "markdown",
   "metadata": {},
   "source": [
    "9. Make sure rows indices are consecutive integers (starting from 0)."
   ]
  },
  {
   "cell_type": "code",
   "execution_count": null,
   "metadata": {},
   "outputs": [],
   "source": [
    "df_final.reset_index(drop=True,inplace=True)"
   ]
  },
  {
   "cell_type": "code",
   "execution_count": null,
   "metadata": {},
   "outputs": [],
   "source": [
    "df_final.head()"
   ]
  },
  {
   "cell_type": "markdown",
   "metadata": {},
   "source": [
    "10. Save the remaining points in a HDF5 file with dataset ns1 containing columns: x, y,color."
   ]
  },
  {
   "cell_type": "code",
   "execution_count": null,
   "metadata": {},
   "outputs": [],
   "source": [
    "hdf5_file_path = 'data/ns1.h5'\n",
    "df_final[['x','y','color']].to_hdf(hdf5_file_path,'ns1',mode='w',format='table',data_columns=True)"
   ]
  },
  {
   "cell_type": "markdown",
   "metadata": {},
   "source": [
    "11. Plot data from the HDF5 file using scatter plot (with corresponding colors)."
   ]
  },
  {
   "cell_type": "code",
   "execution_count": null,
   "metadata": {},
   "outputs": [],
   "source": [
    "df = pd.read_hdf(hdf5_file_path)"
   ]
  },
  {
   "cell_type": "code",
   "execution_count": null,
   "metadata": {},
   "outputs": [],
   "source": [
    "df.head()"
   ]
  },
  {
   "cell_type": "code",
   "execution_count": null,
   "metadata": {},
   "outputs": [],
   "source": [
    "plt.scatter(x=df.x,y=df.y,c=df.color)"
   ]
  },
  {
   "cell_type": "markdown",
   "metadata": {},
   "source": [
    "# :)"
   ]
  },
  {
   "cell_type": "code",
   "execution_count": null,
   "metadata": {},
   "outputs": [],
   "source": []
  }
 ],
 "metadata": {
  "kernelspec": {
   "display_name": "Python 3",
   "language": "python",
   "name": "python3"
  },
  "language_info": {
   "codemirror_mode": {
    "name": "ipython",
    "version": 3
   },
   "file_extension": ".py",
   "mimetype": "text/x-python",
   "name": "python",
   "nbconvert_exporter": "python",
   "pygments_lexer": "ipython3",
   "version": "3.7.6"
  }
 },
 "nbformat": 4,
 "nbformat_minor": 4
}
